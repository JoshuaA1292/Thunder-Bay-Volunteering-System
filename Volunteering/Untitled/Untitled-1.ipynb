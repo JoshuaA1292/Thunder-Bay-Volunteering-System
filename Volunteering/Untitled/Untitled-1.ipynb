{
 "cells": [
  {
   "cell_type": "code",
   "execution_count": 67,
   "metadata": {},
   "outputs": [],
   "source": [
    "import pandas as pd\n",
    "from IPython.display import HTML\n",
    "\n",
    "df = pd.read_csv(\"Volunteering - Sheet1.csv\")\n"
   ]
  },
  {
   "cell_type": "code",
   "execution_count": 68,
   "metadata": {},
   "outputs": [],
   "source": [
    "from sklearn.feature_extraction.text import TfidfVectorizer\n",
    "tfidf_vector = TfidfVectorizer(stop_words='english')\n",
    "df['Information'] = df['Information'].fillna('')\n",
    "tfidf_matrix = tfidf_vector.fit_transform(df['Information'])"
   ]
  },
  {
   "cell_type": "code",
   "execution_count": 69,
   "metadata": {},
   "outputs": [],
   "source": [
    "from sklearn.metrics.pairwise import linear_kernel\n",
    "sim_matrix = linear_kernel(tfidf_matrix, tfidf_matrix)"
   ]
  },
  {
   "cell_type": "code",
   "execution_count": 70,
   "metadata": {},
   "outputs": [],
   "source": [
    "indices = pd.Series(df.index, index=df['Event']).drop_duplicates()\n",
    "\n"
   ]
  },
  {
   "cell_type": "code",
   "execution_count": 72,
   "metadata": {},
   "outputs": [],
   "source": [
    "\n",
    "def content_based_recommender(Event, sim_scores=sim_matrix):\n",
    "    indices.to_frame()\n",
    "    idx = indices[Event]\n",
    "    sim_scores = list(enumerate(sim_matrix[idx]))\n",
    "    HTML(df.to_html(render_links=True, escape=False))\n",
    "    sim_scores = sorted(sim_scores, key=lambda x: x[1], reverse=True)\n",
    "    sim_scores = sim_scores[1:11]\n",
    "    event_indices = [i[0] for i in sim_scores]\n",
    "    result = df['Event'].iloc[event_indices] \n",
    "    rec_df = pd.DataFrame(result)\n",
    "    rec_df['link'] = df['Url'].iloc[event_indices]\n",
    "    return rec_df\n",
    "    \n",
    "\n"
   ]
  },
  {
   "cell_type": "code",
   "execution_count": 73,
   "metadata": {},
   "outputs": [
    {
     "data": {
      "text/html": [
       "<div>\n",
       "<style scoped>\n",
       "    .dataframe tbody tr th:only-of-type {\n",
       "        vertical-align: middle;\n",
       "    }\n",
       "\n",
       "    .dataframe tbody tr th {\n",
       "        vertical-align: top;\n",
       "    }\n",
       "\n",
       "    .dataframe thead th {\n",
       "        text-align: right;\n",
       "    }\n",
       "</style>\n",
       "<table border=\"1\" class=\"dataframe\">\n",
       "  <thead>\n",
       "    <tr style=\"text-align: right;\">\n",
       "      <th></th>\n",
       "      <th>Event</th>\n",
       "      <th>link</th>\n",
       "    </tr>\n",
       "  </thead>\n",
       "  <tbody>\n",
       "    <tr>\n",
       "      <th>4</th>\n",
       "      <td>Beendigen Inc.</td>\n",
       "      <td>https://volunteerthunderbay.com/events/beendig...</td>\n",
       "    </tr>\n",
       "    <tr>\n",
       "      <th>61</th>\n",
       "      <td>Thunder Bay Family Network - ICAN! Social Netw...</td>\n",
       "      <td>https://volunteerthunderbay.com/events/thunder...</td>\n",
       "    </tr>\n",
       "    <tr>\n",
       "      <th>1</th>\n",
       "      <td>Alzheimer Society</td>\n",
       "      <td>https://volunteerthunderbay.com/events/alzheim...</td>\n",
       "    </tr>\n",
       "    <tr>\n",
       "      <th>65</th>\n",
       "      <td>Thunder Bay Military Family Resource Centre</td>\n",
       "      <td>https://volunteerthunderbay.com/events/thunder...</td>\n",
       "    </tr>\n",
       "    <tr>\n",
       "      <th>53</th>\n",
       "      <td>St. Joseph's Care Group - St. Joseph's Hospital</td>\n",
       "      <td>https://volunteerthunderbay.com/events/st-jose...</td>\n",
       "    </tr>\n",
       "    <tr>\n",
       "      <th>59</th>\n",
       "      <td>Thunder Bay Family Network</td>\n",
       "      <td>https://volunteerthunderbay.com/events/thunder...</td>\n",
       "    </tr>\n",
       "    <tr>\n",
       "      <th>28</th>\n",
       "      <td>City of Thunder Bay - Pioneer Ridge</td>\n",
       "      <td>https://volunteerthunderbay.com/events/pioneer...</td>\n",
       "    </tr>\n",
       "    <tr>\n",
       "      <th>14</th>\n",
       "      <td>Catholic Family Development Centre</td>\n",
       "      <td>https://volunteerthunderbay.com/events/catholi...</td>\n",
       "    </tr>\n",
       "    <tr>\n",
       "      <th>34</th>\n",
       "      <td>Grace Place offers Volunteering Opportunities</td>\n",
       "      <td>https://volunteerthunderbay.com/events/grace-p...</td>\n",
       "    </tr>\n",
       "    <tr>\n",
       "      <th>30</th>\n",
       "      <td>Elevate NWO</td>\n",
       "      <td>https://volunteerthunderbay.com/events/elevate...</td>\n",
       "    </tr>\n",
       "  </tbody>\n",
       "</table>\n",
       "</div>"
      ],
      "text/plain": [
       "                                                Event  \\\n",
       "4                                      Beendigen Inc.   \n",
       "61  Thunder Bay Family Network - ICAN! Social Netw...   \n",
       "1                                   Alzheimer Society   \n",
       "65        Thunder Bay Military Family Resource Centre   \n",
       "53    St. Joseph's Care Group - St. Joseph's Hospital   \n",
       "59                         Thunder Bay Family Network   \n",
       "28                City of Thunder Bay - Pioneer Ridge   \n",
       "14                 Catholic Family Development Centre   \n",
       "34      Grace Place offers Volunteering Opportunities   \n",
       "30                                        Elevate NWO   \n",
       "\n",
       "                                                 link  \n",
       "4   https://volunteerthunderbay.com/events/beendig...  \n",
       "61  https://volunteerthunderbay.com/events/thunder...  \n",
       "1   https://volunteerthunderbay.com/events/alzheim...  \n",
       "65  https://volunteerthunderbay.com/events/thunder...  \n",
       "53  https://volunteerthunderbay.com/events/st-jose...  \n",
       "59  https://volunteerthunderbay.com/events/thunder...  \n",
       "28  https://volunteerthunderbay.com/events/pioneer...  \n",
       "14  https://volunteerthunderbay.com/events/catholi...  \n",
       "34  https://volunteerthunderbay.com/events/grace-p...  \n",
       "30  https://volunteerthunderbay.com/events/elevate...  "
      ]
     },
     "execution_count": 73,
     "metadata": {},
     "output_type": "execute_result"
    }
   ],
   "source": [
    "\n",
    "content_based_recommender('Alpha Court')"
   ]
  },
  {
   "cell_type": "code",
   "execution_count": null,
   "metadata": {},
   "outputs": [],
   "source": [
    "import pickle\n",
    "pickle.dump(df.to_dict(),open('v.pkl', 'wb'))"
   ]
  },
  {
   "cell_type": "code",
   "execution_count": null,
   "metadata": {},
   "outputs": [],
   "source": [
    "pickle.dump(sim_matrix, open('sim_matrix', 'wb'))"
   ]
  },
  {
   "cell_type": "code",
   "execution_count": null,
   "metadata": {},
   "outputs": [],
   "source": [
    "pickle.dump(indices, open('indices', 'wb'))"
   ]
  }
 ],
 "metadata": {
  "kernelspec": {
   "display_name": "Python 3.9.6 64-bit",
   "language": "python",
   "name": "python3"
  },
  "language_info": {
   "codemirror_mode": {
    "name": "ipython",
    "version": 3
   },
   "file_extension": ".py",
   "mimetype": "text/x-python",
   "name": "python",
   "nbconvert_exporter": "python",
   "pygments_lexer": "ipython3",
   "version": "3.9.6"
  },
  "orig_nbformat": 4,
  "vscode": {
   "interpreter": {
    "hash": "aee8b7b246df8f9039afb4144a1f6fd8d2ca17a180786b69acc140d282b71a49"
   }
  }
 },
 "nbformat": 4,
 "nbformat_minor": 2
}
